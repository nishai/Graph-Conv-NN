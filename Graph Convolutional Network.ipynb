{
  "nbformat": 4,
  "nbformat_minor": 0,
  "metadata": {
    "anaconda-cloud": {},
    "kernelspec": {
      "name": "python3",
      "display_name": "Python 3"
    },
    "colab": {
      "name": "Copy of Graph Convolutional Network.ipynb",
      "provenance": [],
      "collapsed_sections": []
    }
  },
  "cells": [
    {
      "cell_type": "markdown",
      "metadata": {
        "id": "TGKFO5IA0VY-",
        "colab_type": "text"
      },
      "source": [
        "# Graph Convolutional Network\n",
        "\n",
        "My attempt at building a simple 2-layer Graph Convolution Neural Network for graph classification with Pytorch.\n",
        "\n",
        "Utilises the definitions and architecture outlined in _Kipf & Welling, [Semi-Supervised Classification with Graph Convolutional Networks](http://arxiv.org/abs/1609.02907) (ICLR 2017)_.\n",
        "\n",
        "## Imports and dataset"
      ]
    },
    {
      "cell_type": "code",
      "metadata": {
        "id": "t1q-_8jW1LDb",
        "colab_type": "code",
        "colab": {
          "base_uri": "https://localhost:8080/",
          "height": 119
        },
        "outputId": "e7791679-6d60-4104-d051-4af85fe20e02"
      },
      "source": [
        "!pip install dgl\n",
        "!pip install tqdm\n",
        "# !pip install -U networkx"
      ],
      "execution_count": 73,
      "outputs": [
        {
          "output_type": "stream",
          "text": [
            "Requirement already satisfied: dgl in /usr/local/lib/python3.6/dist-packages (0.4.2)\n",
            "Requirement already satisfied: networkx>=2.1 in /usr/local/lib/python3.6/dist-packages (from dgl) (2.4)\n",
            "Requirement already satisfied: numpy>=1.14.0 in /usr/local/lib/python3.6/dist-packages (from dgl) (1.17.5)\n",
            "Requirement already satisfied: scipy>=1.1.0 in /usr/local/lib/python3.6/dist-packages (from dgl) (1.4.1)\n",
            "Requirement already satisfied: decorator>=4.3.0 in /usr/local/lib/python3.6/dist-packages (from networkx>=2.1->dgl) (4.4.1)\n",
            "Requirement already satisfied: tqdm in /usr/local/lib/python3.6/dist-packages (4.28.1)\n"
          ],
          "name": "stdout"
        }
      ]
    },
    {
      "cell_type": "code",
      "metadata": {
        "id": "Tb6pwT6f0VZL",
        "colab_type": "code",
        "colab": {}
      },
      "source": [
        "from dgl.data import MiniGCDataset\n",
        "import matplotlib.pyplot as plt\n",
        "from tqdm import tqdm as tqdm\n",
        "import numpy as np\n",
        "import networkx as nx\n",
        "import scipy.sparse as sps\n",
        "import torch\n",
        "from torch import nn\n",
        "import torch.nn.functional as F\n",
        "import torch.optim as optim\n",
        "\n",
        "%matplotlib inline"
      ],
      "execution_count": 0,
      "outputs": []
    },
    {
      "cell_type": "code",
      "metadata": {
        "id": "gQsb7Ma16S_m",
        "colab_type": "code",
        "colab": {}
      },
      "source": [
        "N_classes = 8\n",
        "data_size = 100\n",
        "\n",
        "def one_hot(idx):\n",
        "    \"\"\"\n",
        "    Method to one hot encode class number\n",
        "\n",
        "    Params:\n",
        "        idx: class number / index to assign to 1\n",
        "    Returns:\n",
        "        vec: tensor of length N_classes, containing all 0s except the position of idx\n",
        "    \"\"\"\n",
        "    vec = torch.zeros(N_classes)\n",
        "    vec[idx] = 1\n",
        "    return vec\n",
        "\n",
        "def un_one_hot(vec):\n",
        "    \"\"\"\n",
        "    Method to get the class/index given a one hot encoded vector\n",
        "    \"\"\"\n",
        "    return int(torch.where(vec == 1)[0])"
      ],
      "execution_count": 0,
      "outputs": []
    },
    {
      "cell_type": "code",
      "metadata": {
        "scrolled": false,
        "id": "7jNnjR5V0VZr",
        "colab_type": "code",
        "outputId": "9d3f7449-aa1d-4412-c91f-47d4ce574cec",
        "colab": {
          "base_uri": "https://localhost:8080/",
          "height": 264
        }
      },
      "source": [
        "gcdataset = MiniGCDataset(data_size,10,20)\n",
        "\n",
        "# convert DGLgraph to networkx\n",
        "# each entry in dataset: (networkx graph, label)\n",
        "dataset = []\n",
        "for i in np.arange(data_size):\n",
        "    graph, label = gcdataset[i]\n",
        "    label = one_hot(label)\n",
        "    graph = graph.to_networkx()\n",
        "    node_attrs = {i: list(torch.randn(2)) for i in np.arange(graph.number_of_nodes())}\n",
        "    nx.set_node_attributes(graph, node_attrs, 'name') # add random 2-length vector as node attribute for all nodes (attribute 'name')\n",
        "    dataset.append( (graph, label) )\n",
        "    \n",
        "# show samples from dataset\n",
        "plt.figure(figsize=(18,4))\n",
        "for i, g in enumerate(np.random.randint(0, data_size, 5)):\n",
        "    graph, label = dataset[g]\n",
        "    label = un_one_hot(label)\n",
        "    plt.subplot(1,5,i+1)\n",
        "    nx.draw(graph)\n",
        "    plt.title('Class: {}'.format(label));"
      ],
      "execution_count": 49,
      "outputs": [
        {
          "output_type": "display_data",
          "data": {
            "image/png": "[encoded data removed]",
            "text/plain": [
              "<Figure size 1296x288 with 5 Axes>"
            ]
          },
          "metadata": {
            "tags": []
          }
        }
      ]
    },
    {
      "cell_type": "markdown",
      "metadata": {
        "id": "lzzgXvA10VaH",
        "colab_type": "text"
      },
      "source": [
        "## Graph convolution\n",
        "\n",
        "A graph convolution is defined as follows (eqn. 8 in _Kipf & Welling_). \n",
        "\n",
        "For a signal $X \\in \\mathbb{R}^{N \\times C}$ with $N$ nodes and $C$ input channels, and $F$ filters or feature maps:\n",
        "$$ Z = \\tilde{D}^{-\\frac{1}{2}} \\tilde{A} \\tilde{D}^{-\\frac{1}{2}} X \\Theta ,$$\n",
        "\n",
        "where:\n",
        "* $Z \\in \\mathbb{R}^{N \\times F}$ is the convolved signal matrix\n",
        "* $\\Theta \\in \\mathbb{R}^{C \\times F}$ is a matrix of filter parameters\n",
        "* $\\tilde{A} = A + I_N$ is the adjacency matrix A with added self-connections\n",
        "* $\\tilde{D} = \\sum_j \\tilde{A}_{ij}$ is the degree matrix of the new adjacency matrix\n",
        "\n",
        "Here a _renormalisation trick_ is performed, such that the rescaled, normalised graph Laplacian with self-loops is expressed by $\\tilde{D}^{-\\frac{1}{2}} \\tilde{A} \\tilde{D}^{-\\frac{1}{2}}$."
      ]
    },
    {
      "cell_type": "code",
      "metadata": {
        "id": "MEkkN3_alXnN",
        "colab_type": "code",
        "colab": {}
      },
      "source": [
        "def get_feature_matrix(g):\n",
        "    \"\"\"\n",
        "    Method to gather a graph's node features as matrix.\n",
        "\n",
        "    Params:\n",
        "        g: networkx graph\n",
        "    Returns:\n",
        "        X: A tensor of size N x C, where N = no. of nodes & C = no. of channels.\n",
        "    \"\"\"\n",
        "    return torch.Tensor(list(nx.get_node_attributes(g, 'name').values()))"
      ],
      "execution_count": 0,
      "outputs": []
    },
    {
      "cell_type": "markdown",
      "metadata": {
        "id": "Ta5OeFwkbREP",
        "colab_type": "text"
      },
      "source": [
        "### Example graph convolution"
      ]
    },
    {
      "cell_type": "code",
      "metadata": {
        "id": "kD4adKMj0Vae",
        "colab_type": "code",
        "colab": {
          "base_uri": "https://localhost:8080/",
          "height": 272
        },
        "outputId": "7da9a689-c1ee-4652-9212-c6b113eb03b8"
      },
      "source": [
        "g = dataset[0][0]\n",
        "N = g.number_of_nodes()\n",
        "X = get_feature_matrix(g)\n",
        "\n",
        "ϴ = nn.Linear(in_features=2, out_features=3)\n",
        "A = torch.Tensor( nx.adjacency_matrix(g).todense() ) # A = dense adj. matrix as Tensor\n",
        "\n",
        "A_tilde = A + torch.eye(N) # add self-connections\n",
        "D_tilde = torch.sum(A_tilde, 1) # degree matrix of A_tilde\n",
        "D_tilde_half = (D_tilde + 1e-5) ** (-0.5)\n",
        "L_tilde = D_tilde_half * A * D_tilde_half # rescaled normalised graph Laplacian\n",
        "\n",
        "Z = ϴ(torch.mm(L_tilde, X))\n",
        "Z"
      ],
      "execution_count": 51,
      "outputs": [
        {
          "output_type": "execute_result",
          "data": {
            "text/plain": [
              "tensor([[ 0.4922, -0.0734, -0.0965],\n",
              "        [ 0.4288, -0.1256, -0.1882],\n",
              "        [ 0.3998,  0.3128, -0.3765],\n",
              "        [ 0.3776,  0.0264, -0.3237],\n",
              "        [ 0.4338, -0.1161, -0.1827],\n",
              "        [ 0.4097, -0.3245, -0.1578],\n",
              "        [ 0.4252, -0.1095, -0.1995],\n",
              "        [ 0.3318,  0.1299, -0.4347],\n",
              "        [ 0.3095,  0.0299, -0.4411],\n",
              "        [ 0.2462,  0.2403, -0.6156],\n",
              "        [ 0.2644,  0.3798, -0.6288],\n",
              "        [ 0.3248,  0.8871, -0.6864],\n",
              "        [ 0.4235,  0.6546, -0.4443],\n",
              "        [ 0.5060,  0.4706, -0.2452],\n",
              "        [ 0.5209, -0.1668, -0.0179]], grad_fn=<AddmmBackward>)"
            ]
          },
          "metadata": {
            "tags": []
          },
          "execution_count": 51
        }
      ]
    },
    {
      "cell_type": "markdown",
      "metadata": {
        "id": "Hge3hcuOUcOI",
        "colab_type": "text"
      },
      "source": [
        "## GCN torch Layer"
      ]
    },
    {
      "cell_type": "code",
      "metadata": {
        "id": "quOkZ2aM0VaP",
        "colab_type": "code",
        "colab": {}
      },
      "source": [
        "class GCNLayer(nn.Module):\n",
        "    \"\"\"\n",
        "    Torch Module for a single graph convolution.\n",
        "    \"\"\"\n",
        "\n",
        "    def __init__(self, C, F):\n",
        "        \"\"\"\n",
        "        Params:\n",
        "            C: No. of channels in input signal. i.e. length of node feature vector.\n",
        "            F: No. of filters/ feature banks.\n",
        "        \"\"\"\n",
        "        super(GCNLayer, self).__init__() #idk what this does?\n",
        "        self.ϴ = nn.Linear(in_features=C, out_features=F)\n",
        "        \n",
        "    def forward(self, g, X):\n",
        "        \"\"\"\n",
        "        Params:\n",
        "            g: input graph (networkx)\n",
        "            X: feature matrix / signal from prev layer. Use get_feature_matrix(g) for first network layer.\n",
        "        \"\"\"\n",
        "        N = g.number_of_nodes()\n",
        "        A = torch.Tensor( nx.adjacency_matrix(g).todense() ) # A = dense adj. matrix as Tensor\n",
        "\n",
        "        A_tilde = A + torch.eye(N) # add self-connections\n",
        "        D_tilde = torch.sum(A_tilde, 1) # degree matrix of A_tilde\n",
        "        D_tilde_half = (D_tilde + 1e-5) ** (-0.5)\n",
        "        L_tilde = D_tilde_half * A * D_tilde_half # rescaled normalised graph Laplacian\n",
        "\n",
        "        Z = self.ϴ(torch.mm(L_tilde, X))\n",
        "        return Z"
      ],
      "execution_count": 0,
      "outputs": []
    },
    {
      "cell_type": "markdown",
      "metadata": {
        "id": "4_H_UhCMbXiX",
        "colab_type": "text"
      },
      "source": [
        "### Example GCN layer"
      ]
    },
    {
      "cell_type": "code",
      "metadata": {
        "id": "vmzP66J9XlDf",
        "colab_type": "code",
        "colab": {
          "base_uri": "https://localhost:8080/",
          "height": 289
        },
        "outputId": "46833e7b-9be8-4b26-95f5-8b8b7a36c06b"
      },
      "source": [
        "gcn = GCNLayer(C=2, F=5)\n",
        "gcn(g, get_feature_matrix(g))"
      ],
      "execution_count": 53,
      "outputs": [
        {
          "output_type": "execute_result",
          "data": {
            "text/plain": [
              "tensor([[-0.1724,  0.4643,  0.4708,  0.3696, -0.9822],\n",
              "        [-0.1904,  0.3190,  0.2327,  0.4743, -0.8462],\n",
              "        [ 0.0836,  0.1392, -0.0638,  0.7081, -0.3379],\n",
              "        [-0.0863,  0.1540, -0.0383,  0.6369, -0.5490],\n",
              "        [-0.1857,  0.3291,  0.2492,  0.4682, -0.8517],\n",
              "        [-0.3076,  0.3203,  0.2355,  0.4320, -0.9822],\n",
              "        [-0.1798,  0.3061,  0.2114,  0.4879, -0.8201],\n",
              "        [-0.0132,  0.0144, -0.2676,  0.7692, -0.3145],\n",
              "        [-0.0693, -0.0166, -0.3182,  0.7732, -0.3455],\n",
              "        [ 0.0730, -0.2259, -0.6620,  0.9831,  0.0435],\n",
              "        [ 0.1541, -0.2149, -0.6445,  1.0032,  0.1247],\n",
              "        [ 0.4506, -0.1889, -0.6037,  1.0878,  0.4371],\n",
              "        [ 0.2870,  0.1143, -0.1058,  0.7988, -0.0774],\n",
              "        [ 0.1566,  0.3651,  0.3061,  0.5613, -0.4975],\n",
              "        [-0.2357,  0.5589,  0.6261,  0.2751, -1.1568]],\n",
              "       grad_fn=<AddmmBackward>)"
            ]
          },
          "metadata": {
            "tags": []
          },
          "execution_count": 53
        }
      ]
    },
    {
      "cell_type": "markdown",
      "metadata": {
        "id": "In8uZnGPe4-7",
        "colab_type": "text"
      },
      "source": [
        "## Network for classsification"
      ]
    },
    {
      "cell_type": "code",
      "metadata": {
        "id": "crnmLlMybqC4",
        "colab_type": "code",
        "colab": {}
      },
      "source": [
        "class Classifier(nn.Module):\n",
        "    \"\"\"\n",
        "    2 layer Graph CNN for graph classification\n",
        "    \"\"\"\n",
        "\n",
        "    def __init__(self, c, f_in, f_hidden, n_classes):\n",
        "        \"\"\"\n",
        "        Params:\n",
        "            c: No. of channels. (Length of node feature vector)\n",
        "            f_in: No. of filters in input layer\n",
        "            f_hidden: No. of filters in hidden layer\n",
        "            n_classes: No. of output classes\n",
        "        \"\"\"\n",
        "        super(Classifier, self).__init__()\n",
        "\n",
        "        self.gcn1 = GCNLayer(C=c, F=f_in)\n",
        "        self.gcn2 = GCNLayer(C=f_in, F=f_hidden)\n",
        "\n",
        "        self.classify = nn.Linear(f_hidden, n_classes)\n",
        "\n",
        "\n",
        "    def forward(self, g):\n",
        "        \"\"\"\n",
        "        Params:\n",
        "            g: input graph (networkx)\n",
        "        Returns:\n",
        "            Z: classifier output\n",
        "        \"\"\"\n",
        "        Z = F.relu(self.gcn1(g, get_feature_matrix(g)))\n",
        "        Z = F.relu(self.gcn2(g, Z))\n",
        "        Z = self.classify(Z.mean(axis=0)) # mean reduce, row-wise\n",
        "        Z = F.softmax(Z, dim=0)\n",
        "        return Z"
      ],
      "execution_count": 0,
      "outputs": []
    },
    {
      "cell_type": "code",
      "metadata": {
        "id": "08LrgkFato09",
        "colab_type": "code",
        "colab": {
          "base_uri": "https://localhost:8080/",
          "height": 170
        },
        "outputId": "77a24d07-d45d-402d-896a-7b6f28837fc4"
      },
      "source": [
        "model = Classifier(c=2, f_in=7, f_hidden=5, n_classes=8)\n",
        "model"
      ],
      "execution_count": 56,
      "outputs": [
        {
          "output_type": "execute_result",
          "data": {
            "text/plain": [
              "Classifier(\n",
              "  (gcn1): GCNLayer(\n",
              "    (Θ): Linear(in_features=2, out_features=7, bias=True)\n",
              "  )\n",
              "  (gcn2): GCNLayer(\n",
              "    (Θ): Linear(in_features=7, out_features=5, bias=True)\n",
              "  )\n",
              "  (classify): Linear(in_features=5, out_features=8, bias=True)\n",
              ")"
            ]
          },
          "metadata": {
            "tags": []
          },
          "execution_count": 56
        }
      ]
    },
    {
      "cell_type": "code",
      "metadata": {
        "id": "kfkgV1ga2Plh",
        "colab_type": "code",
        "colab": {
          "base_uri": "https://localhost:8080/",
          "height": 68
        },
        "outputId": "f20df55e-ccf3-4c7b-cdd6-73919d85e200"
      },
      "source": [
        "g = dataset[0][0]\n",
        "print(g.number_of_nodes())\n",
        "predict = model(g)\n",
        "predict"
      ],
      "execution_count": 57,
      "outputs": [
        {
          "output_type": "stream",
          "text": [
            "15\n"
          ],
          "name": "stdout"
        },
        {
          "output_type": "execute_result",
          "data": {
            "text/plain": [
              "tensor([0.1936, 0.1317, 0.1733, 0.1207, 0.0958, 0.0708, 0.1082, 0.1059],\n",
              "       grad_fn=<SoftmaxBackward>)"
            ]
          },
          "metadata": {
            "tags": []
          },
          "execution_count": 57
        }
      ]
    },
    {
      "cell_type": "markdown",
      "metadata": {
        "id": "ufNIXpDMBBCW",
        "colab_type": "text"
      },
      "source": [
        "## Training"
      ]
    },
    {
      "cell_type": "code",
      "metadata": {
        "id": "SWOMzGDOEKCh",
        "colab_type": "code",
        "colab": {
          "base_uri": "https://localhost:8080/",
          "height": 282
        },
        "outputId": "aa804373-934b-4022-8381-45cd427ae13d"
      },
      "source": [
        "model = Classifier(c=2, f_in=7, f_hidden=5, n_classes=8)\n",
        "\n",
        "loss_func = nn.MSELoss()\n",
        "optimizer = optim.Adam(model.parameters(), lr=0.001)\n",
        "\n",
        "model.train()\n",
        "\n",
        "epoch_losses = []\n",
        "for epoch in tqdm(range(data_size), desc='Training'):\n",
        "    epoch_loss = 0\n",
        "    for iter, (graph, label) in enumerate(dataset):\n",
        "        prediction = model(graph)\n",
        "        loss = loss_func(prediction, label)\n",
        "        optimizer.zero_grad()\n",
        "        loss.backward()\n",
        "        optimizer.step()\n",
        "        epoch_loss += loss.detach().item()\n",
        "\n",
        "    epoch_loss /= (iter + 1)\n",
        "    # print('Epoch {}, loss {:.4f}'.format(epoch, epoch_loss))\n",
        "    epoch_losses.append(epoch_loss)\n",
        "\n",
        "plt.plot(epoch_losses)\n",
        "plt.xlabel('Training examples')\n",
        "plt.ylabel('MSE')"
      ],
      "execution_count": 82,
      "outputs": [
        {
          "output_type": "stream",
          "text": [
            "100%|██████████| 100/100 [00:23<00:00,  4.10it/s]\n"
          ],
          "name": "stderr"
        },
        {
          "output_type": "display_data",
          "data": {
            "image/png": "[encoded data removed]",
            "text/plain": [
              "<Figure size 432x288 with 1 Axes>"
            ]
          },
          "metadata": {
            "tags": []
          }
        }
      ]
    },
    {
      "cell_type": "code",
      "metadata": {
        "id": "35U-nCnvCU5V",
        "colab_type": "code",
        "colab": {}
      },
      "source": [
        ""
      ],
      "execution_count": 0,
      "outputs": []
    }
  ]
}